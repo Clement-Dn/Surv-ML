{
 "cells": [
  {
   "cell_type": "code",
   "execution_count": 14,
   "metadata": {},
   "outputs": [],
   "source": [
    "import matplotlib.pyplot as plt\n",
    "from sksurv.datasets import load_whas500\n",
    "from sksurv.ensemble import RandomSurvivalForest\n",
    "from sklearn.model_selection import train_test_split\n",
    "from lifelines import KaplanMeierFitter\n",
    "import numpy as np\n",
    "import itertools\n",
    "import random"
   ]
  },
  {
   "cell_type": "code",
   "execution_count": 2,
   "metadata": {},
   "outputs": [],
   "source": [
    "X, y = load_whas500()\n",
    "X = X.astype(float)\n",
    "X_train, X_test, y_train, y_test = train_test_split(X, y, test_size=0.2, random_state=42)\n"
   ]
  },
  {
   "cell_type": "code",
   "execution_count": 3,
   "metadata": {},
   "outputs": [],
   "source": [
    "rsf = RandomSurvivalForest(random_state=42).fit(X_train, y_train)"
   ]
  },
  {
   "cell_type": "code",
   "execution_count": 4,
   "metadata": {},
   "outputs": [
    {
     "data": {
      "text/html": [
       "<div>\n",
       "<style scoped>\n",
       "    .dataframe tbody tr th:only-of-type {\n",
       "        vertical-align: middle;\n",
       "    }\n",
       "\n",
       "    .dataframe tbody tr th {\n",
       "        vertical-align: top;\n",
       "    }\n",
       "\n",
       "    .dataframe thead th {\n",
       "        text-align: right;\n",
       "    }\n",
       "</style>\n",
       "<table border=\"1\" class=\"dataframe\">\n",
       "  <thead>\n",
       "    <tr style=\"text-align: right;\">\n",
       "      <th></th>\n",
       "      <th>afb</th>\n",
       "      <th>age</th>\n",
       "      <th>av3</th>\n",
       "      <th>bmi</th>\n",
       "      <th>chf</th>\n",
       "      <th>cvd</th>\n",
       "      <th>diasbp</th>\n",
       "      <th>gender</th>\n",
       "      <th>hr</th>\n",
       "      <th>los</th>\n",
       "      <th>miord</th>\n",
       "      <th>mitype</th>\n",
       "      <th>sho</th>\n",
       "      <th>sysbp</th>\n",
       "    </tr>\n",
       "  </thead>\n",
       "  <tbody>\n",
       "    <tr>\n",
       "      <th>361</th>\n",
       "      <td>0.0</td>\n",
       "      <td>51.0</td>\n",
       "      <td>0.0</td>\n",
       "      <td>40.03658</td>\n",
       "      <td>0.0</td>\n",
       "      <td>1.0</td>\n",
       "      <td>28.0</td>\n",
       "      <td>0.0</td>\n",
       "      <td>86.0</td>\n",
       "      <td>7.0</td>\n",
       "      <td>0.0</td>\n",
       "      <td>1.0</td>\n",
       "      <td>0.0</td>\n",
       "      <td>202.0</td>\n",
       "    </tr>\n",
       "  </tbody>\n",
       "</table>\n",
       "</div>"
      ],
      "text/plain": [
       "     afb   age  av3       bmi  chf  cvd  diasbp  gender    hr  los  miord  \\\n",
       "361  0.0  51.0  0.0  40.03658  0.0  1.0    28.0     0.0  86.0  7.0    0.0   \n",
       "\n",
       "     mitype  sho  sysbp  \n",
       "361     1.0  0.0  202.0  "
      ]
     },
     "execution_count": 4,
     "metadata": {},
     "output_type": "execute_result"
    }
   ],
   "source": [
    "X_test.iloc[:1,:]"
   ]
  },
  {
   "cell_type": "code",
   "execution_count": 5,
   "metadata": {},
   "outputs": [
    {
     "name": "stdout",
     "output_type": "stream",
     "text": [
      "(<Compressed Sparse Row sparse matrix of dtype 'int64'\n",
      "\twith 728 stored elements and shape (1, 10136)>, array([    0,    97,   192,   287,   388,   481,   580,   687,   794,\n",
      "         891,  1004,  1101,  1202,  1299,  1396,  1511,  1612,  1703,\n",
      "        1812,  1909,  2014,  2123,  2228,  2333,  2432,  2539,  2646,\n",
      "        2751,  2870,  2977,  3078,  3165,  3268,  3363,  3468,  3573,\n",
      "        3680,  3785,  3894,  3989,  4088,  4199,  4304,  4409,  4512,\n",
      "        4613,  4718,  4815,  4910,  5025,  5130,  5229,  5340,  5441,\n",
      "        5554,  5659,  5758,  5853,  5930,  6033,  6128,  6221,  6330,\n",
      "        6441,  6546,  6649,  6746,  6845,  6950,  7055,  7142,  7247,\n",
      "        7350,  7459,  7558,  7663,  7760,  7859,  7980,  8083,  8164,\n",
      "        8257,  8354,  8441,  8546,  8647,  8744,  8853,  8958,  9075,\n",
      "        9176,  9271,  9372,  9453,  9550,  9655,  9754,  9851,  9944,\n",
      "       10049, 10136]))\n"
     ]
    }
   ],
   "source": [
    "print(rsf.decision_path(X_test.iloc[:1,:]))"
   ]
  },
  {
   "cell_type": "code",
   "execution_count": 6,
   "metadata": {},
   "outputs": [],
   "source": [
    "tree_index = 0  # On choisit le premier arbre\n",
    "tree = rsf.estimators_[tree_index].tree_"
   ]
  },
  {
   "cell_type": "code",
   "execution_count": 7,
   "metadata": {},
   "outputs": [
    {
     "name": "stdout",
     "output_type": "stream",
     "text": [
      "Nœud 78:\n",
      "  Feature utilisée: sho\n",
      "  Seuil: 0.500\n",
      "  Fils gauche: 79, Fils droit: 94\n",
      "------------------------------\n",
      "Nœud 79:\n",
      "  Feature utilisée: age\n",
      "  Seuil: 80.500\n",
      "  Fils gauche: 80, Fils droit: 91\n",
      "------------------------------\n",
      "Nœud 80:\n",
      "  Feature utilisée: cvd\n",
      "  Seuil: 0.500\n",
      "  Fils gauche: 81, Fils droit: 84\n",
      "------------------------------\n"
     ]
    }
   ],
   "source": [
    "for node in range(78,81):\n",
    "    left_child = tree.children_left[node]\n",
    "    right_child = tree.children_right[node]\n",
    "    feature_index = tree.feature[node]\n",
    "    threshold = tree.threshold[node]\n",
    "    \n",
    "    print(f\"Nœud {node}:\")\n",
    "    print(f\"  Feature utilisée: {X.columns[feature_index] if feature_index != -2 else 'Leaf'}\")\n",
    "    print(f\"  Seuil: {threshold:.3f}\")\n",
    "    print(f\"  Fils gauche: {left_child}, Fils droit: {right_child}\")\n",
    "    print(\"-\" * 30)"
   ]
  },
  {
   "cell_type": "code",
   "execution_count": 8,
   "metadata": {},
   "outputs": [
    {
     "name": "stderr",
     "output_type": "stream",
     "text": [
      "/home/onyxia/.local/lib/python3.10/site-packages/sklearn/base.py:486: UserWarning: X has feature names, but SurvivalTree was fitted without feature names\n",
      "  warnings.warn(\n"
     ]
    }
   ],
   "source": [
    "def same_path(X, obs, rsf, tree_index, depth=0):\n",
    "    #X entrainement, obs a etudier, rsf mdoele, tree index, l'arbre\n",
    "    nodes=rsf.estimators_[tree_index].decision_path(obs).indices\n",
    "    X = X.reset_index(drop=True)\n",
    "    for node in nodes[depth:-1]:\n",
    "        var=tree.feature[node]\n",
    "        seuil=tree.threshold[node]\n",
    "        X = X[X.iloc[:, var] >= seuil] if obs.iloc[0,var]>= seuil else X[X.iloc[:, var] < seuil]\n",
    "    return X\n",
    "\n",
    "same_path=same_path(X_train, X_test.iloc[:1,:], rsf, 0)\n"
   ]
  },
  {
   "cell_type": "code",
   "execution_count": 9,
   "metadata": {},
   "outputs": [
    {
     "data": {
      "text/plain": [
       "5     1.000000\n",
       "10    1.000000\n",
       "15    1.000000\n",
       "20    1.000000\n",
       "25    1.000000\n",
       "30    1.000000\n",
       "35    1.000000\n",
       "40    1.000000\n",
       "45    1.000000\n",
       "50    0.970588\n",
       "55    0.970588\n",
       "60    0.970588\n",
       "65    0.970588\n",
       "70    0.970588\n",
       "75    0.970588\n",
       "80    0.970588\n",
       "85    0.970588\n",
       "90    0.970588\n",
       "95    0.970588\n",
       "Name: KM_estimate, dtype: float64"
      ]
     },
     "execution_count": 9,
     "metadata": {},
     "output_type": "execute_result"
    }
   ],
   "source": [
    "def surv_est(same_path, y_train, times):\n",
    "    y_train_list = np.array(y_train.tolist())[same_path.index]\n",
    "    KMF= KaplanMeierFitter()\n",
    "    KMF.fit(y_train_list[:, 1],y_train_list[:, 0])\n",
    "    return(KMF.predict(times))\n",
    "\n",
    "surv_est(same_path, y_train, list(range(5,100,5)))"
   ]
  },
  {
   "cell_type": "code",
   "execution_count": null,
   "metadata": {},
   "outputs": [],
   "source": [
    "def rpermut(n):\n",
    "    random_permutations = []\n",
    "\n",
    "    for _ in range(n):\n",
    "        shuffled = list(X.columns)  # Copier la liste\n",
    "        random.shuffle(shuffled)  # Mélanger aléatoirement\n",
    "        random_permutations.append(tuple(shuffled))  # Ajouter en tuple (comme permutations)\n",
    "\n",
    "    return(random_permutations)"
   ]
  },
  {
   "cell_type": "code",
   "execution_count": 48,
   "metadata": {},
   "outputs": [
    {
     "name": "stdout",
     "output_type": "stream",
     "text": [
      "['av3']\n",
      "['av3', 'chf']\n",
      "['av3', 'chf', 'hr']\n",
      "['av3', 'chf', 'hr', 'miord']\n",
      "['av3', 'chf', 'hr', 'miord', 'diasbp']\n",
      "['av3', 'chf', 'hr', 'miord', 'diasbp', 'los']\n",
      "['av3', 'chf', 'hr', 'miord', 'diasbp', 'los', 'afb']\n",
      "['av3', 'chf', 'hr', 'miord', 'diasbp', 'los', 'afb', 'gender']\n",
      "['av3', 'chf', 'hr', 'miord', 'diasbp', 'los', 'afb', 'gender', 'bmi']\n",
      "['av3', 'chf', 'hr', 'miord', 'diasbp', 'los', 'afb', 'gender', 'bmi', 'mitype']\n",
      "['av3', 'chf', 'hr', 'miord', 'diasbp', 'los', 'afb', 'gender', 'bmi', 'mitype', 'age']\n",
      "['av3', 'chf', 'hr', 'miord', 'diasbp', 'los', 'afb', 'gender', 'bmi', 'mitype', 'age', 'sysbp']\n",
      "['av3', 'chf', 'hr', 'miord', 'diasbp', 'los', 'afb', 'gender', 'bmi', 'mitype', 'age', 'sysbp', 'cvd']\n",
      "['av3', 'chf', 'hr', 'miord', 'diasbp', 'los', 'afb', 'gender', 'bmi', 'mitype', 'age', 'sysbp', 'cvd', 'sho']\n"
     ]
    }
   ],
   "source": [
    "permutation=rpermut(1)\n",
    "variables=[]\n",
    "for variable in permutation[0]:\n",
    "    variables.append(variable)\n",
    "    node=0:\n",
    "    while \n",
    "    "
   ]
  },
  {
   "cell_type": "code",
   "execution_count": 36,
   "metadata": {},
   "outputs": [
    {
     "data": {
      "text/plain": [
       "'age'"
      ]
     },
     "execution_count": 36,
     "metadata": {},
     "output_type": "execute_result"
    }
   ],
   "source": [
    "class parasite:\n",
    "    def __init__(self, number, left=None, right=None, future_features=None, feature=None, value=None, weight=None, path=None):\n",
    "        self.number=number\n",
    "        self.left=left\n",
    "        self.right=right\n",
    "        self.future_features=future_features\n",
    "        self.feature=feature\n",
    "        self.value=value\n",
    "        self.weight=weight\n",
    "        self.path=None\n",
    "    \n",
    "    def copy_tree(self, tree):\n",
    "        if tree.feature[number] == -2:\n",
    "            return (parasite(number=number, value=))\n",
    "\n"
   ]
  },
  {
   "cell_type": "code",
   "execution_count": 49,
   "metadata": {},
   "outputs": [
    {
     "name": "stdout",
     "output_type": "stream",
     "text": [
      "        20\n",
      "    15\n",
      "10\n",
      "        7\n",
      "    5\n",
      "        2\n"
     ]
    }
   ],
   "source": [
    "class Arbre:\n",
    "    def __init__(self, valeur, gauche=None, droite=None):\n",
    "        \"\"\"Initialise un arbre avec une valeur et éventuellement deux sous-arbres.\"\"\"\n",
    "        self.valeur = valeur\n",
    "        self.gauche = gauche\n",
    "        self.droite = droite\n",
    "\n",
    "    def afficher(self, niveau=0):\n",
    "        \"\"\"Affiche l'arbre de manière structurée.\"\"\"\n",
    "        if self.droite:\n",
    "            self.droite.afficher(niveau + 1)\n",
    "        print(\"    \" * niveau + str(self.valeur))\n",
    "        if self.gauche:\n",
    "            self.gauche.afficher(niveau + 1)\n",
    "\n",
    "# Exemple d'utilisation\n",
    "arbre = Arbre(10, Arbre(5, Arbre(2), Arbre(7)), Arbre(15, None, Arbre(20)))\n",
    "arbre.afficher()"
   ]
  },
  {
   "cell_type": "code",
   "execution_count": 57,
   "metadata": {},
   "outputs": [
    {
     "data": {
      "text/plain": [
       "array([53, 87, 82, 87, 87,  1, 87, 89, 65, 14, 83, 90, 14, 27, 19,  8, 25,\n",
       "       83, 83, 86, 11, 72, 72, 83, 18, 14, 36, 44, 35, 76, 52, 23, 87, 93,\n",
       "       53, 87, 37, 52, 73, 18, 90, 73, 30,  1, 73, 18, 90, 14, 65, 14, 48,\n",
       "       11, 55, 44, 95, 86, 17, 17, 52, 87, 60, 86, 90, 93, 90, 95, 48, 82,\n",
       "       87,  1, 73, 12, 83, 30, 92, 87, 14, 82, 11, 53, 86, 82, 43, 87, 48,\n",
       "       47, 14, 40, 50, 44, 77, 44, 30, 47, 82, 27, 27, 95, 37, 14, 61, 73,\n",
       "       28, 73, 93, 83, 11, 44, 19, 14, 83, 69, 93, 87, 56, 12, 73, 83, 11,\n",
       "       90, 12, 92, 14, 87, 69, 87, 83, 14, 19, 44, 68, 83, 65, 11, 43, 23,\n",
       "       71, 82, 87, 65, 83, 83, 92, 90, 87, 30, 12, 48, 83, 69, 44, 14, 20,\n",
       "       87, 30, 28, 61, 95, 44, 96, 30, 14, 37, 43, 96, 25, 14, 14, 90, 93,\n",
       "       83, 48, 25, 19,  1,  8, 93, 44, 72, 77, 47, 11, 23, 53, 83, 87, 14,\n",
       "       76, 86, 87, 87, 83, 14, 87, 82, 47,  1, 86, 60, 90, 83, 23, 60, 87,\n",
       "       14, 44, 40, 83, 47, 35, 60, 87, 83, 40, 50, 65, 87, 43, 44, 83, 52,\n",
       "       76, 44, 35, 52, 90, 89, 28, 30, 77, 83, 14, 87, 89, 92, 87,  1, 87,\n",
       "       73, 92, 56, 90, 65, 87, 44, 37, 74, 35, 72, 37, 35, 56, 47, 44, 87,\n",
       "       20, 11, 87, 87, 14, 44, 53, 53, 36, 83, 53, 14, 19,  1, 52, 37, 47,\n",
       "       76, 24, 61, 43, 87, 83, 24, 82, 90, 53, 14, 23, 90,  1, 83, 50,  8,\n",
       "       87, 92, 35, 43, 14, 35, 48, 44, 14, 53, 47, 14, 14,  8, 14, 20, 92,\n",
       "       28, 36, 14, 30, 14, 20, 18, 83,  8, 71, 11, 96, 83, 25, 82, 93, 92,\n",
       "       44, 83, 72, 28, 65, 30, 93, 87, 48, 23, 83, 83, 27, 14, 73, 77, 74,\n",
       "       69, 14, 87, 73, 11, 12,  1, 23, 14,  8, 77, 30,  1, 86, 92, 11, 87,\n",
       "       27, 24, 77, 48, 87, 28, 90, 19, 44, 14, 87, 77, 89, 83, 11, 40, 27,\n",
       "       11, 87, 19, 14, 20, 19, 52, 37, 74, 65, 47, 71, 90, 55, 36, 44, 48,\n",
       "       90, 37, 87, 28, 44, 30,  1, 83, 25, 17, 50, 53, 19, 14, 23, 14, 83,\n",
       "       14, 50, 20, 19, 96, 77, 83, 77, 53, 68, 52, 65, 14, 76, 14, 68, 60,\n",
       "       14, 14, 14, 18, 24, 65, 36, 53, 44, 25, 23, 96, 14, 14, 73, 11, 93,\n",
       "        8, 83, 83, 56, 72, 27, 83, 72, 93, 72, 27, 23, 53, 14, 83, 55, 28,\n",
       "       95, 12, 14, 36, 83, 14, 73, 44, 72, 14, 24, 14, 19, 14, 93, 44, 23,\n",
       "       35, 53, 68, 20,  8, 20, 93, 90, 73, 65,  8, 87, 14, 14, 73, 44, 53,\n",
       "       69, 71, 87, 71, 28, 87, 92])"
      ]
     },
     "execution_count": 57,
     "metadata": {},
     "output_type": "execute_result"
    }
   ],
   "source": [
    "leaf_indices = rsf.apply(X)\n",
    "leaf_indices[:,0]"
   ]
  }
 ],
 "metadata": {
  "kernelspec": {
   "display_name": "Python 3",
   "language": "python",
   "name": "python3"
  },
  "language_info": {
   "codemirror_mode": {
    "name": "ipython",
    "version": 3
   },
   "file_extension": ".py",
   "mimetype": "text/x-python",
   "name": "python",
   "nbconvert_exporter": "python",
   "pygments_lexer": "ipython3",
   "version": "3.10.12"
  }
 },
 "nbformat": 4,
 "nbformat_minor": 2
}
